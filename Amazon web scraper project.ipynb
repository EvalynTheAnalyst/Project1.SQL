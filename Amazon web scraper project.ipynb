{
 "cells": [
  {
   "cell_type": "code",
   "execution_count": 102,
   "id": "ed72b0ec",
   "metadata": {},
   "outputs": [],
   "source": [
    "#import libraries\n",
    "from bs4 import BeautifulSoup\n",
    "import requests\n",
    "import smtplib\n",
    "import time\n",
    "import datetime"
   ]
  },
  {
   "cell_type": "code",
   "execution_count": 174,
   "id": "460a313c",
   "metadata": {},
   "outputs": [
    {
     "name": "stdout",
     "output_type": "stream",
     "text": [
      "<!DOCTYPE html>\n",
      "\n",
      "<!--[if lt IE 7]> <html lang=\"en-us\" class=\"a-no-js a-lt-ie9 a-lt-ie8 a-lt-ie7\"> <![endif]-->\n",
      "<!--[if IE 7]>    <html lang=\"en-us\" class=\"a-no-js a-lt-ie9 a-lt-ie8\"> <![endif]-->\n",
      "<!--[if IE 8]>    <html lang=\"en-us\" class=\"a-no-js a-lt-ie9\"> <![endif]-->\n",
      "<!--[if gt IE 8]><!-->\n",
      "<html class=\"a-no-js\" lang=\"en-us\">\n",
      "<!--<![endif]-->\n",
      "<head>\n",
      "<meta content=\"text/html; charset=utf-8\" http-equiv=\"content-type\"/>\n",
      "<meta charset=\"utf-8\"/>\n",
      "<meta content=\"IE=edge,chrome=1\" http-equiv=\"X-UA-Compatible\"/>\n",
      "<title dir=\"ltr\">\n",
      "   Amazon.com\n",
      "  </title>\n",
      "<meta content=\"width=device-width\" name=\"viewport\"/>\n",
      "<link href=\"https://images-na.ssl-images-amazon.com/images/G/01/AUIClients/AmazonUI-3c913031596ca78a3768f4e934b1cc02ce238101.secure.min._V1_.css\" rel=\"stylesheet\"/>\n",
      "<script>\n",
      "   if (true === true) {\n",
      "    var ue_t0 = (+ new Date()),\n",
      "        ue_csm = window,\n",
      "        ue = { t0: ue_t0, d: function() { return (+new Date() - ue_t0); } },\n",
      "        ue_furl = \"fls-na.amazon.com\",\n",
      "        ue_mid = \"ATVPDKIKX0DER\",\n",
      "        ue_sid = (document.cookie.match(/session-id=([0-9-]+)/) || [])[1],\n",
      "        ue_sn = \"opfcaptcha.amazon.com\",\n",
      "        ue_id = 'SG68K6DNW8AGKWX8D6GQ';\n",
      "}\n",
      "  </script>\n",
      "</head>\n",
      "<body>\n",
      "<!--\n",
      "        To discuss automated access to Amazon data please contact api-services-support@amazon.com.\n",
      "        For information about migrating to our APIs refer to our Marketplace APIs at https://developer.amazonservices.com/ref=rm_c_sv, or our Product Advertising API at https://affiliate-program.amazon.com/gp/advertising/api/detail/main.html/ref=rm_c_ac for advertising use cases.\n",
      "-->\n",
      "<!--\n",
      "Correios.DoNotSend\n",
      "-->\n",
      "<div class=\"a-container a-padding-double-large\" style=\"min-width:350px;padding:44px 0 !important\">\n",
      "<div class=\"a-row a-spacing-double-large\" style=\"width: 350px; margin: 0 auto\">\n",
      "<div class=\"a-row a-spacing-medium a-text-center\">\n",
      "<i class=\"a-icon a-logo\">\n",
      "</i>\n",
      "</div>\n",
      "<div class=\"a-box a-alert a-alert-info a-spacing-base\">\n",
      "<div class=\"a-box-inner\">\n",
      "<i class=\"a-icon a-icon-alert\">\n",
      "</i>\n",
      "<h4>\n",
      "       Enter the characters you see below\n",
      "      </h4>\n",
      "<p class=\"a-last\">\n",
      "       Sorry, we just need to make sure you're not a robot. For best results, please make sure your browser is accepting cookies.\n",
      "      </p>\n",
      "</div>\n",
      "</div>\n",
      "<div class=\"a-section\">\n",
      "<div class=\"a-box a-color-offset-background\">\n",
      "<div class=\"a-box-inner a-padding-extra-large\">\n",
      "<form action=\"/errors/validateCaptcha\" method=\"get\" name=\"\">\n",
      "<input name=\"amzn\" type=\"hidden\" value=\"hTrJa4fDQX/a72blaOFCeQ==\"/>\n",
      "<input name=\"amzn-r\" type=\"hidden\" value=\"/Funny-Data-Systems-Business-Analyst/dp/B07FNW9FGJ/ref=sr_1_3?customId=B0752XJYNL&amp;dchild=1&amp;keywords=data%2Banalyst%2Btshirt&amp;qid=1626655184&amp;sr=8-3&amp;th=1%27\"/>\n",
      "<div class=\"a-row a-spacing-large\">\n",
      "<div class=\"a-box\">\n",
      "<div class=\"a-box-inner\">\n",
      "<h4>\n",
      "            Type the characters you see in this image:\n",
      "           </h4>\n",
      "<div class=\"a-row a-text-center\">\n",
      "<img src=\"https://images-na.ssl-images-amazon.com/captcha/fmvtfjch/Captcha_aylgirzrle.jpg\"/>\n",
      "</div>\n",
      "<div class=\"a-row a-spacing-base\">\n",
      "<div class=\"a-row\">\n",
      "<div class=\"a-column a-span6\">\n",
      "</div>\n",
      "<div class=\"a-column a-span6 a-span-last a-text-right\">\n",
      "<a onclick=\"window.location.reload()\">\n",
      "               Try different image\n",
      "              </a>\n",
      "</div>\n",
      "</div>\n",
      "<input autocapitalize=\"off\" autocomplete=\"off\" autocorrect=\"off\" class=\"a-span12\" id=\"captchacharacters\" name=\"field-keywords\" placeholder=\"Type characters\" spellcheck=\"false\" type=\"text\"/>\n",
      "</div>\n",
      "</div>\n",
      "</div>\n",
      "</div>\n",
      "<div class=\"a-section a-spacing-extra-large\">\n",
      "<div class=\"a-row\">\n",
      "<span class=\"a-button a-button-primary a-span12\">\n",
      "<span class=\"a-button-inner\">\n",
      "<button class=\"a-button-text\" type=\"submit\">\n",
      "             Continue shopping\n",
      "            </button>\n",
      "</span>\n",
      "</span>\n",
      "</div>\n",
      "</div>\n",
      "</form>\n",
      "</div>\n",
      "</div>\n",
      "</div>\n",
      "</div>\n",
      "<div class=\"a-divider a-divider-section\">\n",
      "<div class=\"a-divider-inner\">\n",
      "</div>\n",
      "</div>\n",
      "<div class=\"a-text-center a-spacing-small a-size-mini\">\n",
      "<a href=\"https://www.amazon.com/gp/help/customer/display.html/ref=footer_cou?ie=UTF8&amp;nodeId=508088\">\n",
      "     Conditions of Use\n",
      "    </a>\n",
      "<span class=\"a-letter-space\">\n",
      "</span>\n",
      "<span class=\"a-letter-space\">\n",
      "</span>\n",
      "<span class=\"a-letter-space\">\n",
      "</span>\n",
      "<span class=\"a-letter-space\">\n",
      "</span>\n",
      "<a href=\"https://www.amazon.com/gp/help/customer/display.html/ref=footer_privacy?ie=UTF8&amp;nodeId=468496\">\n",
      "     Privacy Policy\n",
      "    </a>\n",
      "</div>\n",
      "<div class=\"a-text-center a-size-mini a-color-secondary\">\n",
      "    © 1996-2014, Amazon.com, Inc. or its affiliates\n",
      "    <script>\n",
      "     if (true === true) {\n",
      "             document.write('<img src=\"https://fls-na.amaz'+'on.com/'+'1/oc-csi/1/OP/requestId=SG68K6DNW8AGKWX8D6GQ&js=1\" />');\n",
      "           };\n",
      "    </script>\n",
      "<noscript>\n",
      "<img src=\"https://fls-na.amazon.com/1/oc-csi/1/OP/requestId=SG68K6DNW8AGKWX8D6GQ&amp;js=0\"/>\n",
      "</noscript>\n",
      "</div>\n",
      "</div>\n",
      "<script>\n",
      "   if (true === true) {\n",
      "        var head = document.getElementsByTagName('head')[0],\n",
      "            prefix = \"https://images-na.ssl-images-amazon.com/images/G/01/csminstrumentation/\",\n",
      "            elem = document.createElement(\"script\");\n",
      "        elem.src = prefix + \"csm-captcha-instrumentation.min.js\";\n",
      "        head.appendChild(elem);\n",
      "\n",
      "        elem = document.createElement(\"script\");\n",
      "        elem.src = prefix + \"rd-script-6d68177fa6061598e9509dc4b5bdd08d.js\";\n",
      "        head.appendChild(elem);\n",
      "    }\n",
      "  </script>\n",
      "</body>\n",
      "</html>\n",
      "\n"
     ]
    }
   ],
   "source": [
    "#Get website\n",
    "url ='https://www.amazon.com/Funny-Data-Systems-Business-Analyst/dp/B07FNW9FGJ/ref=sr_1_3?dchild=1&keywords=data%2Banalyst%2Btshirt&qid=1626655184&sr=8-3&customId=B0752XJYNL&th=1%27'\n",
    "headers = { \"User-Agent\": \"Mozilla/5.0 (Windows NT 10.0; Win64; x64) AppleWebKit/537.36 (KHTML, like Gecko) Chrome/125.0.0.0 Safari/537.36\"}\n",
    "page = requests.get(url, headers = headers) \n",
    "\n",
    "soup1 = BeautifulSoup(page.content,'html.parser')\n",
    "#print(soup1)\n",
    "\n",
    "soup2 = BeautifulSoup(soup1.prettify(),'html.parser')\n",
    "print(soup2)\n",
    "\n",
    "\n",
    "\n"
   ]
  },
  {
   "cell_type": "code",
   "execution_count": 175,
   "id": "42030bdc",
   "metadata": {},
   "outputs": [
    {
     "name": "stdout",
     "output_type": "stream",
     "text": [
      "Element with ID 'productTitle' not found.\n",
      "Price information not found.\n"
     ]
    }
   ],
   "source": [
    "\n",
    "title_element = soup2.find(id='productTitle')\n",
    "\n",
    "if title_element:\n",
    "    title = title_element.get_text().strip()\n",
    "    print(title)\n",
    "else:\n",
    "    print(\"Element with ID 'productTitle' not found.\")\n",
    "    \n",
    "\n",
    "price_element = soup2.find(class_=\"a-price-whole\")\n",
    "\n",
    "\n",
    "\n",
    "# Extract the text from the price element\n",
    "if price_element:\n",
    "    price = price_element.get_text(strip=True)\n",
    "    print(price)\n",
    "else:\n",
    "    print(\"Price information not found.\")\n",
    "\n"
   ]
  },
  {
   "cell_type": "code",
   "execution_count": 176,
   "id": "ba1dbbcf",
   "metadata": {},
   "outputs": [
    {
     "name": "stdout",
     "output_type": "stream",
     "text": [
      "2024-05-29\n"
     ]
    }
   ],
   "source": [
    "today=datetime.date.today()\n",
    "print(today)"
   ]
  },
  {
   "cell_type": "code",
   "execution_count": 177,
   "id": "bf59714b",
   "metadata": {},
   "outputs": [],
   "source": [
    "import csv\n",
    "header = [\"Title\",\"Price\",\"Date\"]\n",
    "data = [title, price,today]\n",
    "\n",
    "\n",
    "with open(\"AmazonWebDataset1.csv\",'w',newline='',encoding= 'UTF8') as f:\n",
    "    writer = csv.writer(f)\n",
    "    writer.writerow(header)\n",
    "    writer.writerow(data)"
   ]
  },
  {
   "cell_type": "code",
   "execution_count": 180,
   "id": "06fbd609",
   "metadata": {},
   "outputs": [
    {
     "name": "stdout",
     "output_type": "stream",
     "text": [
      "                                               Title  Price        Date\n",
      "0  Funny Got Data MIS Data Systems Business Analy...   19.0  2024-05-29\n",
      "1  Funny Got Data MIS Data Systems Business Analy...   19.0  2024-05-29\n"
     ]
    }
   ],
   "source": [
    "import pandas as pd\n",
    "df = pd.read_csv(r\"C:\\Users\\pavilion14\\AmazonWebDataset1.csv\")\n",
    "print(df)"
   ]
  },
  {
   "cell_type": "code",
   "execution_count": 179,
   "id": "d1c6d8a7",
   "metadata": {},
   "outputs": [],
   "source": [
    "#Appending data\n",
    "with open(\"AmazonWebDataset1.csv\",'a+',newline='',encoding= 'UTF8') as f:\n",
    "    writer = csv.writer(f)\n",
    "    writer.writerow(data)"
   ]
  },
  {
   "cell_type": "code",
   "execution_count": 185,
   "id": "4242993d",
   "metadata": {},
   "outputs": [],
   "source": [
    "def check_price():\n",
    "    \n",
    "    url ='https://www.amazon.com/Funny-Data-Systems-Business-Analyst/dp/B07FNW9FGJ/ref=sr_1_3?dchild=1&keywords=data%2Banalyst%2Btshirt&qid=1626655184&sr=8-3&customId=B0752XJYNL&th=1%27'\n",
    "    #headers = { \"User-Agent\": \"Mozilla/5.0 (Windows NT 10.0; Win64; x64) AppleWebKit/537.36 (KHTML, like Gecko) Chrome/125.0.0.0 Safari/537.36\"}\n",
    "    page = requests.get(url)#headers = headers) \n",
    "    soup1 = BeautifulSoup(page.content,'html.parser')\n",
    "    soup2 = BeautifulSoup(soup1.prettify(),'html.parser')\n",
    "    \n",
    "    title_element = soup2.find(id='productTitle')\n",
    "\n",
    "    if title_element:\n",
    "        title = title_element.get_text().strip()\n",
    "        print(title)\n",
    "    else:\n",
    "        print(\"Element with ID 'productTitle' not found.\")\n",
    "    \n",
    "\n",
    "    price_element = soup2.find(class_=\"a-price-whole\")\n",
    "\n",
    "\n",
    "\n",
    "        # Extract the text from the price element\n",
    "    if price_element:\n",
    "        price = price_element.get_text(strip=True)\n",
    "        print(price)\n",
    "    else:\n",
    "        print(\"Price information not found.\")\n",
    "    \n",
    "    today=datetime.date.today()\n",
    "    \n",
    "    import csv\n",
    "    header = [\"Title\",\"Price\",\"Date\"]\n",
    "    data = [title, price,today]\n",
    "    \n",
    "    with open(\"AmazonWebDataset1.csv\",'a+',newline='',encoding= 'UTF8') as f:\n",
    "        writer = csv.writer(f)\n",
    "        writer.writerow(data)\n",
    "\n",
    "    "
   ]
  },
  {
   "cell_type": "code",
   "execution_count": 187,
   "id": "861661a8",
   "metadata": {},
   "outputs": [
    {
     "name": "stdout",
     "output_type": "stream",
     "text": [
      "Funny Got Data MIS Data Systems Business Analyst T-Shirt\n",
      "19.\n",
      "Funny Got Data MIS Data Systems Business Analyst T-Shirt\n",
      "19.\n",
      "Funny Got Data MIS Data Systems Business Analyst T-Shirt\n",
      "19.\n",
      "Funny Got Data MIS Data Systems Business Analyst T-Shirt\n",
      "19.\n",
      "Funny Got Data MIS Data Systems Business Analyst T-Shirt\n",
      "19.\n"
     ]
    },
    {
     "ename": "KeyboardInterrupt",
     "evalue": "",
     "output_type": "error",
     "traceback": [
      "\u001b[1;31m---------------------------------------------------------------------------\u001b[0m",
      "\u001b[1;31mKeyboardInterrupt\u001b[0m                         Traceback (most recent call last)",
      "Cell \u001b[1;32mIn[187], line 3\u001b[0m\n\u001b[0;32m      1\u001b[0m \u001b[38;5;28;01mwhile\u001b[39;00m(\u001b[38;5;28;01mTrue\u001b[39;00m):\n\u001b[0;32m      2\u001b[0m     check_price()\n\u001b[1;32m----> 3\u001b[0m     time\u001b[38;5;241m.\u001b[39msleep(\u001b[38;5;241m2\u001b[39m)\n",
      "\u001b[1;31mKeyboardInterrupt\u001b[0m: "
     ]
    }
   ],
   "source": [
    "while(True):\n",
    "    check_price()\n",
    "    time.sleep(2)"
   ]
  },
  {
   "cell_type": "code",
   "execution_count": 188,
   "id": "f523b0ef",
   "metadata": {},
   "outputs": [
    {
     "name": "stdout",
     "output_type": "stream",
     "text": [
      "                                               Title  Price        Date\n",
      "0  Funny Got Data MIS Data Systems Business Analy...   19.0  2024-05-29\n",
      "1  Funny Got Data MIS Data Systems Business Analy...   19.0  2024-05-29\n",
      "2  Funny Got Data MIS Data Systems Business Analy...   19.0  2024-05-29\n",
      "3  Funny Got Data MIS Data Systems Business Analy...   19.0  2024-05-29\n",
      "4  Funny Got Data MIS Data Systems Business Analy...   19.0  2024-05-29\n",
      "5  Funny Got Data MIS Data Systems Business Analy...   19.0  2024-05-29\n",
      "6  Funny Got Data MIS Data Systems Business Analy...   19.0  2024-05-29\n"
     ]
    }
   ],
   "source": [
    "import pandas as pd\n",
    "df = pd.read_csv(r\"C:\\Users\\pavilion14\\AmazonWebDataset1.csv\")\n",
    "print(df)"
   ]
  },
  {
   "cell_type": "code",
   "execution_count": null,
   "id": "23852f8d",
   "metadata": {},
   "outputs": [],
   "source": []
  }
 ],
 "metadata": {
  "kernelspec": {
   "display_name": "Python 3 (ipykernel)",
   "language": "python",
   "name": "python3"
  },
  "language_info": {
   "codemirror_mode": {
    "name": "ipython",
    "version": 3
   },
   "file_extension": ".py",
   "mimetype": "text/x-python",
   "name": "python",
   "nbconvert_exporter": "python",
   "pygments_lexer": "ipython3",
   "version": "3.11.5"
  }
 },
 "nbformat": 4,
 "nbformat_minor": 5
}
